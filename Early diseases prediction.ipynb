{
 "cells": [
  {
   "cell_type": "markdown",
   "id": "80ad1939-1240-4c84-ac48-bdd87c0199c6",
   "metadata": {},
   "source": [
    "#  Prototype Model for Early Disease Risk Prediction :"
   ]
  },
  {
   "cell_type": "code",
   "execution_count": 1,
   "id": "fa349289-48c4-4ab5-b339-11ee608fbf22",
   "metadata": {},
   "outputs": [
    {
     "name": "stdout",
     "output_type": "stream",
     "text": [
      "Collecting shap\n",
      "  Using cached shap-0.48.0-cp39-cp39-manylinux_2_17_x86_64.manylinux2014_x86_64.whl.metadata (25 kB)\n",
      "Requirement already satisfied: numpy in ./anaconda3/envs/tfod/lib/python3.9/site-packages (from shap) (1.26.4)\n",
      "Requirement already satisfied: scipy in ./anaconda3/envs/tfod/lib/python3.9/site-packages (from shap) (1.13.1)\n",
      "Requirement already satisfied: scikit-learn in ./anaconda3/envs/tfod/lib/python3.9/site-packages (from shap) (1.6.1)\n",
      "Requirement already satisfied: pandas in ./anaconda3/envs/tfod/lib/python3.9/site-packages (from shap) (2.3.1)\n",
      "Requirement already satisfied: tqdm>=4.27.0 in ./anaconda3/envs/tfod/lib/python3.9/site-packages (from shap) (4.67.1)\n",
      "Requirement already satisfied: packaging>20.9 in ./anaconda3/envs/tfod/lib/python3.9/site-packages (from shap) (24.2)\n",
      "Collecting slicer==0.0.8 (from shap)\n",
      "  Using cached slicer-0.0.8-py3-none-any.whl.metadata (4.0 kB)\n",
      "Requirement already satisfied: numba>=0.54 in ./anaconda3/envs/tfod/lib/python3.9/site-packages (from shap) (0.60.0)\n",
      "Requirement already satisfied: cloudpickle in ./anaconda3/envs/tfod/lib/python3.9/site-packages (from shap) (3.1.1)\n",
      "Requirement already satisfied: typing-extensions in ./anaconda3/envs/tfod/lib/python3.9/site-packages (from shap) (4.12.2)\n",
      "Requirement already satisfied: llvmlite<0.44,>=0.43.0dev0 in ./anaconda3/envs/tfod/lib/python3.9/site-packages (from numba>=0.54->shap) (0.43.0)\n",
      "Requirement already satisfied: python-dateutil>=2.8.2 in ./anaconda3/envs/tfod/lib/python3.9/site-packages (from pandas->shap) (2.9.0.post0)\n",
      "Requirement already satisfied: pytz>=2020.1 in ./anaconda3/envs/tfod/lib/python3.9/site-packages (from pandas->shap) (2025.2)\n",
      "Requirement already satisfied: tzdata>=2022.7 in ./anaconda3/envs/tfod/lib/python3.9/site-packages (from pandas->shap) (2025.2)\n",
      "Requirement already satisfied: six>=1.5 in ./anaconda3/envs/tfod/lib/python3.9/site-packages (from python-dateutil>=2.8.2->pandas->shap) (1.17.0)\n",
      "Requirement already satisfied: joblib>=1.2.0 in ./anaconda3/envs/tfod/lib/python3.9/site-packages (from scikit-learn->shap) (1.5.1)\n",
      "Requirement already satisfied: threadpoolctl>=3.1.0 in ./anaconda3/envs/tfod/lib/python3.9/site-packages (from scikit-learn->shap) (3.6.0)\n",
      "Using cached shap-0.48.0-cp39-cp39-manylinux_2_17_x86_64.manylinux2014_x86_64.whl (997 kB)\n",
      "Using cached slicer-0.0.8-py3-none-any.whl (15 kB)\n",
      "Installing collected packages: slicer, shap\n",
      "\u001b[2K   \u001b[38;2;114;156;31m━━━━━━━━━━━━━━━━━━━━━━━━━━━━━━━━━━━━━━━━\u001b[0m \u001b[32m2/2\u001b[0m [shap]━━━━━━\u001b[0m \u001b[32m1/2\u001b[0m [shap]\n",
      "Successfully installed shap-0.48.0 slicer-0.0.8\n"
     ]
    }
   ],
   "source": [
    "!pip install shap"
   ]
  },
  {
   "cell_type": "code",
   "execution_count": 2,
   "id": "8692bbd3-daff-4e7c-b794-f5bfaabfd7b1",
   "metadata": {},
   "outputs": [
    {
     "name": "stderr",
     "output_type": "stream",
     "text": [
      "/home/uma/anaconda3/envs/tfod/lib/python3.9/site-packages/tqdm/auto.py:21: TqdmWarning: IProgress not found. Please update jupyter and ipywidgets. See https://ipywidgets.readthedocs.io/en/stable/user_install.html\n",
      "  from .autonotebook import tqdm as notebook_tqdm\n"
     ]
    }
   ],
   "source": [
    "import pandas as pd\n",
    "import numpy as np\n",
    "import matplotlib.pyplot as plt\n",
    "import seaborn as sns\n",
    "from sklearn.model_selection import train_test_split\n",
    "from sklearn.preprocessing import StandardScaler\n",
    "from sklearn.linear_model import LogisticRegression\n",
    "from sklearn.metrics import accuracy_score, classification_report, confusion_matrix\n",
    "from sklearn.ensemble import RandomForestClassifier, GradientBoostingClassifier\n",
    "from sklearn.svm import SVC\n",
    "from xgboost import XGBClassifier\n",
    "import shap\n",
    "import joblib"
   ]
  },
  {
   "cell_type": "markdown",
   "id": "e14d70c9-8518-4841-8d64-5aa7fa4928bb",
   "metadata": {},
   "source": [
    "### Loading dataset :"
   ]
  },
  {
   "cell_type": "code",
   "execution_count": 3,
   "id": "eafaa59c-efa9-4064-a6f9-4ea66fabbbcf",
   "metadata": {},
   "outputs": [],
   "source": [
    "dataset=pd.read_csv(\"/home/uma/PIMA_diabetes_dataset/diabetes.csv\")"
   ]
  },
  {
   "cell_type": "markdown",
   "id": "55ee9f3c-6fb2-45ab-b5f4-ed30e0cadc80",
   "metadata": {},
   "source": [
    "### Exploring dataset : "
   ]
  },
  {
   "cell_type": "code",
   "execution_count": 4,
   "id": "c7db4026-66c7-4b0a-b816-bbd8265394c2",
   "metadata": {},
   "outputs": [
    {
     "name": "stdout",
     "output_type": "stream",
     "text": [
      "   Pregnancies  Glucose  BloodPressure  SkinThickness  Insulin   BMI  \\\n",
      "0            6      148             72             35        0  33.6   \n",
      "1            1       85             66             29        0  26.6   \n",
      "2            8      183             64              0        0  23.3   \n",
      "3            1       89             66             23       94  28.1   \n",
      "4            0      137             40             35      168  43.1   \n",
      "\n",
      "   DiabetesPedigreeFunction  Age  Outcome  \n",
      "0                     0.627   50        1  \n",
      "1                     0.351   31        0  \n",
      "2                     0.672   32        1  \n",
      "3                     0.167   21        0  \n",
      "4                     2.288   33        1  \n"
     ]
    }
   ],
   "source": [
    "print(dataset.head())"
   ]
  },
  {
   "cell_type": "code",
   "execution_count": 5,
   "id": "af903959-c36b-4e83-ab15-5de33365c7ec",
   "metadata": {},
   "outputs": [
    {
     "name": "stdout",
     "output_type": "stream",
     "text": [
      "Index(['Pregnancies', 'Glucose', 'BloodPressure', 'SkinThickness', 'Insulin',\n",
      "       'BMI', 'DiabetesPedigreeFunction', 'Age', 'Outcome'],\n",
      "      dtype='object')\n"
     ]
    }
   ],
   "source": [
    "print(dataset.columns)"
   ]
  },
  {
   "cell_type": "code",
   "execution_count": 6,
   "id": "f5deb2c3-c311-4326-ab72-d901ef0efe14",
   "metadata": {},
   "outputs": [
    {
     "name": "stdout",
     "output_type": "stream",
     "text": [
      "Pregnancies  Glucose  BloodPressure  SkinThickness  Insulin  BMI   DiabetesPedigreeFunction  Age  Outcome\n",
      "0            57       60             0              0        21.7  0.735                     67   0          1\n",
      "             67       76             0              0        45.3  0.194                     46   0          1\n",
      "5            103      108            37             0        39.2  0.305                     65   0          1\n",
      "             104      74             0              0        28.8  0.153                     48   0          1\n",
      "             105      72             29             325      36.9  0.159                     28   0          1\n",
      "                                                                                                            ..\n",
      "2            84       50             23             76       30.4  0.968                     21   0          1\n",
      "             85       65             0              0        39.6  0.930                     27   0          1\n",
      "             87       0              23             0        28.9  0.773                     25   0          1\n",
      "                      58             16             52       32.7  0.166                     25   0          1\n",
      "17           163      72             41             114      40.9  0.817                     47   1          1\n",
      "Name: count, Length: 768, dtype: int64\n"
     ]
    }
   ],
   "source": [
    "print(dataset.value_counts())"
   ]
  },
  {
   "cell_type": "code",
   "execution_count": 7,
   "id": "141deef6-7a0c-4521-8a98-708a5b0a07ab",
   "metadata": {},
   "outputs": [
    {
     "name": "stdout",
     "output_type": "stream",
     "text": [
      "<bound method DataFrame.info of      Pregnancies  Glucose  BloodPressure  SkinThickness  Insulin   BMI  \\\n",
      "0              6      148             72             35        0  33.6   \n",
      "1              1       85             66             29        0  26.6   \n",
      "2              8      183             64              0        0  23.3   \n",
      "3              1       89             66             23       94  28.1   \n",
      "4              0      137             40             35      168  43.1   \n",
      "..           ...      ...            ...            ...      ...   ...   \n",
      "763           10      101             76             48      180  32.9   \n",
      "764            2      122             70             27        0  36.8   \n",
      "765            5      121             72             23      112  26.2   \n",
      "766            1      126             60              0        0  30.1   \n",
      "767            1       93             70             31        0  30.4   \n",
      "\n",
      "     DiabetesPedigreeFunction  Age  Outcome  \n",
      "0                       0.627   50        1  \n",
      "1                       0.351   31        0  \n",
      "2                       0.672   32        1  \n",
      "3                       0.167   21        0  \n",
      "4                       2.288   33        1  \n",
      "..                        ...  ...      ...  \n",
      "763                     0.171   63        0  \n",
      "764                     0.340   27        0  \n",
      "765                     0.245   30        0  \n",
      "766                     0.349   47        1  \n",
      "767                     0.315   23        0  \n",
      "\n",
      "[768 rows x 9 columns]>\n"
     ]
    }
   ],
   "source": [
    "print(dataset.info)"
   ]
  },
  {
   "cell_type": "code",
   "execution_count": 8,
   "id": "2a372fd6-6065-4147-aea6-a3c9198c75d3",
   "metadata": {},
   "outputs": [
    {
     "data": {
      "text/html": [
       "<div>\n",
       "<style scoped>\n",
       "    .dataframe tbody tr th:only-of-type {\n",
       "        vertical-align: middle;\n",
       "    }\n",
       "\n",
       "    .dataframe tbody tr th {\n",
       "        vertical-align: top;\n",
       "    }\n",
       "\n",
       "    .dataframe thead th {\n",
       "        text-align: right;\n",
       "    }\n",
       "</style>\n",
       "<table border=\"1\" class=\"dataframe\">\n",
       "  <thead>\n",
       "    <tr style=\"text-align: right;\">\n",
       "      <th></th>\n",
       "      <th>Pregnancies</th>\n",
       "      <th>Glucose</th>\n",
       "      <th>BloodPressure</th>\n",
       "      <th>SkinThickness</th>\n",
       "      <th>Insulin</th>\n",
       "      <th>BMI</th>\n",
       "      <th>DiabetesPedigreeFunction</th>\n",
       "      <th>Age</th>\n",
       "      <th>Outcome</th>\n",
       "    </tr>\n",
       "  </thead>\n",
       "  <tbody>\n",
       "  </tbody>\n",
       "</table>\n",
       "</div>"
      ],
      "text/plain": [
       "Empty DataFrame\n",
       "Columns: [Pregnancies, Glucose, BloodPressure, SkinThickness, Insulin, BMI, DiabetesPedigreeFunction, Age, Outcome]\n",
       "Index: []"
      ]
     },
     "execution_count": 8,
     "metadata": {},
     "output_type": "execute_result"
    }
   ],
   "source": [
    "dataset[dataset[\"BMI\"].isnull()]"
   ]
  },
  {
   "cell_type": "code",
   "execution_count": 9,
   "id": "2fd9afc7-0645-45bb-80fb-dcae974f6647",
   "metadata": {},
   "outputs": [
    {
     "name": "stdout",
     "output_type": "stream",
     "text": [
      "       Pregnancies     Glucose  BloodPressure  SkinThickness     Insulin  \\\n",
      "count   768.000000  768.000000     768.000000     768.000000  768.000000   \n",
      "mean      3.845052  120.894531      69.105469      20.536458   79.799479   \n",
      "std       3.369578   31.972618      19.355807      15.952218  115.244002   \n",
      "min       0.000000    0.000000       0.000000       0.000000    0.000000   \n",
      "25%       1.000000   99.000000      62.000000       0.000000    0.000000   \n",
      "50%       3.000000  117.000000      72.000000      23.000000   30.500000   \n",
      "75%       6.000000  140.250000      80.000000      32.000000  127.250000   \n",
      "max      17.000000  199.000000     122.000000      99.000000  846.000000   \n",
      "\n",
      "              BMI  DiabetesPedigreeFunction         Age     Outcome  \n",
      "count  768.000000                768.000000  768.000000  768.000000  \n",
      "mean    31.992578                  0.471876   33.240885    0.348958  \n",
      "std      7.884160                  0.331329   11.760232    0.476951  \n",
      "min      0.000000                  0.078000   21.000000    0.000000  \n",
      "25%     27.300000                  0.243750   24.000000    0.000000  \n",
      "50%     32.000000                  0.372500   29.000000    0.000000  \n",
      "75%     36.600000                  0.626250   41.000000    1.000000  \n",
      "max     67.100000                  2.420000   81.000000    1.000000  \n"
     ]
    }
   ],
   "source": [
    "print(dataset.describe())"
   ]
  },
  {
   "cell_type": "markdown",
   "id": "b38e3e63-3348-45aa-92f9-d46c002255f0",
   "metadata": {},
   "source": [
    "### Data preprocessing : "
   ]
  },
  {
   "cell_type": "code",
   "execution_count": 10,
   "id": "2fc2ba8d-8394-4ece-bcb2-a72e79cf8d4b",
   "metadata": {},
   "outputs": [
    {
     "name": "stdout",
     "output_type": "stream",
     "text": [
      "Pregnancies                 0\n",
      "Glucose                     0\n",
      "BloodPressure               0\n",
      "SkinThickness               0\n",
      "Insulin                     0\n",
      "BMI                         0\n",
      "DiabetesPedigreeFunction    0\n",
      "Age                         0\n",
      "Outcome                     0\n",
      "dtype: int64\n"
     ]
    }
   ],
   "source": [
    "print(dataset.isnull().sum())"
   ]
  },
  {
   "cell_type": "code",
   "execution_count": 11,
   "id": "d1de5f19-9e4c-4d40-9388-5422e216e4fb",
   "metadata": {},
   "outputs": [],
   "source": [
    "# No null values "
   ]
  },
  {
   "cell_type": "markdown",
   "id": "df4597f7-988d-404a-922e-a1f97e661029",
   "metadata": {},
   "source": [
    "### Separating features and target variables : "
   ]
  },
  {
   "cell_type": "code",
   "execution_count": 12,
   "id": "3cc74493-db90-4e7d-8fa3-93c35e31d9f5",
   "metadata": {},
   "outputs": [],
   "source": [
    "X=dataset.drop(\"Outcome\",axis=1)\n",
    "Y=dataset[\"Outcome\"]"
   ]
  },
  {
   "cell_type": "markdown",
   "id": "7e5850be-00bc-49d3-ab7f-82978ec16f2b",
   "metadata": {},
   "source": [
    "### Standarizing features : "
   ]
  },
  {
   "cell_type": "code",
   "execution_count": 13,
   "id": "a7e0d4dd-c5ed-4c50-840e-16df01116a6c",
   "metadata": {},
   "outputs": [
    {
     "name": "stdout",
     "output_type": "stream",
     "text": [
      "Requirement already satisfied: scikit-learn in ./anaconda3/envs/tfod/lib/python3.9/site-packages (1.6.1)\n",
      "Requirement already satisfied: numpy>=1.19.5 in ./anaconda3/envs/tfod/lib/python3.9/site-packages (from scikit-learn) (1.26.4)\n",
      "Requirement already satisfied: scipy>=1.6.0 in ./anaconda3/envs/tfod/lib/python3.9/site-packages (from scikit-learn) (1.13.1)\n",
      "Requirement already satisfied: joblib>=1.2.0 in ./anaconda3/envs/tfod/lib/python3.9/site-packages (from scikit-learn) (1.5.1)\n",
      "Requirement already satisfied: threadpoolctl>=3.1.0 in ./anaconda3/envs/tfod/lib/python3.9/site-packages (from scikit-learn) (3.6.0)\n"
     ]
    }
   ],
   "source": [
    "!pip install scikit-learn"
   ]
  },
  {
   "cell_type": "code",
   "execution_count": 14,
   "id": "f0262d83-42f1-4407-853b-dbcde2ee209d",
   "metadata": {},
   "outputs": [],
   "source": [
    "from sklearn.preprocessing import StandardScaler\n",
    "scaler=StandardScaler()\n",
    "X=scaler.fit_transform(X)"
   ]
  },
  {
   "cell_type": "markdown",
   "id": "4049eb32-0c6d-45b6-9fb4-137ff8d9ac32",
   "metadata": {},
   "source": [
    "### Splitting train and test data :"
   ]
  },
  {
   "cell_type": "code",
   "execution_count": 15,
   "id": "12869128-b0ac-4767-b1b5-c12f36ea4ee3",
   "metadata": {},
   "outputs": [],
   "source": [
    "from sklearn.model_selection import train_test_split"
   ]
  },
  {
   "cell_type": "code",
   "execution_count": 16,
   "id": "02b420c7-05f1-47e3-9009-7b137a0e024d",
   "metadata": {},
   "outputs": [],
   "source": [
    "X_train,X_test,Y_train,Y_test=train_test_split(X,Y,test_size=0.2,random_state=42)"
   ]
  },
  {
   "cell_type": "code",
   "execution_count": 17,
   "id": "5b6588a6-1a18-46ee-a5d8-60654103433b",
   "metadata": {},
   "outputs": [
    {
     "data": {
      "text/plain": [
       "(614, 8)"
      ]
     },
     "execution_count": 17,
     "metadata": {},
     "output_type": "execute_result"
    }
   ],
   "source": [
    "X_train.shape"
   ]
  },
  {
   "cell_type": "code",
   "execution_count": 18,
   "id": "f8e860e0-f5a8-4143-8f46-d7f2197bdbf0",
   "metadata": {},
   "outputs": [
    {
     "data": {
      "text/plain": [
       "(154, 8)"
      ]
     },
     "execution_count": 18,
     "metadata": {},
     "output_type": "execute_result"
    }
   ],
   "source": [
    "X_test.shape"
   ]
  },
  {
   "cell_type": "code",
   "execution_count": 19,
   "id": "4cf174ba-4a6b-4110-9bf2-f7ba643d98c3",
   "metadata": {},
   "outputs": [
    {
     "data": {
      "text/plain": [
       "(614,)"
      ]
     },
     "execution_count": 19,
     "metadata": {},
     "output_type": "execute_result"
    }
   ],
   "source": [
    "Y_train.shape"
   ]
  },
  {
   "cell_type": "code",
   "execution_count": 20,
   "id": "7099722e-ca71-4598-a3fe-8db19b020901",
   "metadata": {},
   "outputs": [
    {
     "data": {
      "text/plain": [
       "(154,)"
      ]
     },
     "execution_count": 20,
     "metadata": {},
     "output_type": "execute_result"
    }
   ],
   "source": [
    "Y_test.shape"
   ]
  },
  {
   "cell_type": "code",
   "execution_count": 21,
   "id": "6c2dcb36-febc-4bb7-912d-775f32c98bf2",
   "metadata": {},
   "outputs": [
    {
     "name": "stdout",
     "output_type": "stream",
     "text": [
      "✅ Logistic Regression Accuracy: 0.7532\n",
      "[[79 20]\n",
      " [18 37]]\n",
      "              precision    recall  f1-score   support\n",
      "\n",
      "           0       0.81      0.80      0.81        99\n",
      "           1       0.65      0.67      0.66        55\n",
      "\n",
      "    accuracy                           0.75       154\n",
      "   macro avg       0.73      0.74      0.73       154\n",
      "weighted avg       0.76      0.75      0.75       154\n",
      "\n",
      "--------------------------------------------------\n",
      "✅ Random Forest Accuracy: 0.7273\n",
      "[[78 21]\n",
      " [21 34]]\n",
      "              precision    recall  f1-score   support\n",
      "\n",
      "           0       0.79      0.79      0.79        99\n",
      "           1       0.62      0.62      0.62        55\n",
      "\n",
      "    accuracy                           0.73       154\n",
      "   macro avg       0.70      0.70      0.70       154\n",
      "weighted avg       0.73      0.73      0.73       154\n",
      "\n",
      "--------------------------------------------------\n",
      "✅ Gradient Boosting Accuracy: 0.7403\n",
      "[[77 22]\n",
      " [18 37]]\n",
      "              precision    recall  f1-score   support\n",
      "\n",
      "           0       0.81      0.78      0.79        99\n",
      "           1       0.63      0.67      0.65        55\n",
      "\n",
      "    accuracy                           0.74       154\n",
      "   macro avg       0.72      0.73      0.72       154\n",
      "weighted avg       0.75      0.74      0.74       154\n",
      "\n",
      "--------------------------------------------------\n",
      "✅ Support Vector Machine Accuracy: 0.7273\n",
      "[[81 18]\n",
      " [24 31]]\n",
      "              precision    recall  f1-score   support\n",
      "\n",
      "           0       0.77      0.82      0.79        99\n",
      "           1       0.63      0.56      0.60        55\n",
      "\n",
      "    accuracy                           0.73       154\n",
      "   macro avg       0.70      0.69      0.70       154\n",
      "weighted avg       0.72      0.73      0.72       154\n",
      "\n",
      "--------------------------------------------------\n"
     ]
    },
    {
     "name": "stderr",
     "output_type": "stream",
     "text": [
      "/home/uma/anaconda3/envs/tfod/lib/python3.9/site-packages/xgboost/core.py:158: UserWarning: [13:36:23] WARNING: /workspace/src/learner.cc:740: \n",
      "Parameters: { \"use_label_encoder\" } are not used.\n",
      "\n",
      "  warnings.warn(smsg, UserWarning)\n"
     ]
    },
    {
     "name": "stdout",
     "output_type": "stream",
     "text": [
      "✅ XGBoost Accuracy: 0.7078\n",
      "[[73 26]\n",
      " [19 36]]\n",
      "              precision    recall  f1-score   support\n",
      "\n",
      "           0       0.79      0.74      0.76        99\n",
      "           1       0.58      0.65      0.62        55\n",
      "\n",
      "    accuracy                           0.71       154\n",
      "   macro avg       0.69      0.70      0.69       154\n",
      "weighted avg       0.72      0.71      0.71       154\n",
      "\n",
      "--------------------------------------------------\n"
     ]
    }
   ],
   "source": [
    "models = {\n",
    "    \"Logistic Regression\": LogisticRegression(),\n",
    "    \"Random Forest\": RandomForestClassifier(n_estimators=100, random_state=42),\n",
    "    \"Gradient Boosting\": GradientBoostingClassifier(),\n",
    "    \"Support Vector Machine\": SVC(probability=True),\n",
    "    \"XGBoost\": XGBClassifier(use_label_encoder=False, eval_metric='logloss')\n",
    "}\n",
    "\n",
    "results = {}\n",
    "best_acc=0\n",
    "for name, model in models.items():\n",
    "    model.fit(X_train, Y_train)\n",
    "    y_pred = model.predict(X_test)\n",
    "    acc = accuracy_score(Y_test, y_pred)\n",
    "    results[name] = acc\n",
    "    print(f\"✅ {name} Accuracy: {acc:.4f}\")\n",
    "    print(confusion_matrix(Y_test, y_pred))\n",
    "    print(classification_report(Y_test, y_pred))\n",
    "    print(\"-\" * 50)\n",
    "    # Check and store best model\n",
    "    if acc > best_acc:\n",
    "        best_acc = acc\n",
    "        best_model = model\n",
    "        best_model_name = name\n",
    "\n"
   ]
  },
  {
   "cell_type": "code",
   "execution_count": 22,
   "id": "3218878d-9958-4e71-b0a0-0c549b7532e4",
   "metadata": {},
   "outputs": [
    {
     "data": {
      "image/png": "[encoded data removed]",
      "text/plain": [
       "<Figure size 1000x600 with 1 Axes>"
      ]
     },
     "metadata": {},
     "output_type": "display_data"
    }
   ],
   "source": [
    "plt.figure(figsize=(10, 6))\n",
    "sns.barplot(x=list(results.keys()), y=list(results.values()))\n",
    "plt.xticks(rotation=45)\n",
    "plt.title(\"Model Accuracy Comparison\")\n",
    "plt.ylabel(\"Accuracy\")\n",
    "plt.show()\n"
   ]
  },
  {
   "cell_type": "markdown",
   "id": "107f004c-4301-4439-a177-52d7c3a9ade4",
   "metadata": {},
   "source": [
    "### Saving best model : "
   ]
  },
  {
   "cell_type": "code",
   "execution_count": 23,
   "id": "5bac447a-42c5-43c4-9a3d-0fad80469f35",
   "metadata": {},
   "outputs": [
    {
     "name": "stdout",
     "output_type": "stream",
     "text": [
      "\n",
      " Best Model: Logistic Regression (Accuracy: 0.7532) saved as 'best_model.pkl'\n"
     ]
    }
   ],
   "source": [
    "joblib.dump(best_model, \"best_model.pkl\")\n",
    "print(f\"\\n Best Model: {best_model_name} (Accuracy: {best_acc:.4f}) saved as 'best_model.pkl'\")"
   ]
  },
  {
   "cell_type": "code",
   "execution_count": 24,
   "id": "2a9c9d7e-f41e-4c3b-bdd5-0ebfba249c18",
   "metadata": {},
   "outputs": [],
   "source": [
    "!pip install shap --quiet"
   ]
  },
  {
   "cell_type": "code",
   "execution_count": 25,
   "id": "0cc0708e-a215-4f70-af33-aa68ca3da01e",
   "metadata": {},
   "outputs": [
    {
     "data": {
      "text/plain": [
       "Index(['Pregnancies', 'Glucose', 'BloodPressure', 'SkinThickness', 'Insulin',\n",
       "       'BMI', 'DiabetesPedigreeFunction', 'Age', 'Outcome'],\n",
       "      dtype='object')"
      ]
     },
     "execution_count": 25,
     "metadata": {},
     "output_type": "execute_result"
    }
   ],
   "source": [
    "dataset.columns"
   ]
  },
  {
   "cell_type": "code",
   "execution_count": 26,
   "id": "fd2dff5b-eebc-4386-8724-0992e016767e",
   "metadata": {},
   "outputs": [],
   "source": [
    "cols=['Pregnancies', 'Glucose', 'BloodPressure', 'SkinThickness', 'Insulin',\n",
    "       'BMI', 'DiabetesPedigreeFunction', 'Age']"
   ]
  },
  {
   "cell_type": "code",
   "execution_count": 27,
   "id": "956248e2-53e1-45d0-8337-d0e4a4ed35e0",
   "metadata": {},
   "outputs": [
    {
     "data": {
      "image/png": "[encoded data removed]",
      "text/plain": [
       "<Figure size 800x470 with 2 Axes>"
      ]
     },
     "metadata": {},
     "output_type": "display_data"
    }
   ],
   "source": [
    "import shap\n",
    "\n",
    "# Example with XGBoost\n",
    "explainer = shap.Explainer(models[\"XGBoost\"])\n",
    "shap_values = explainer(X_test)\n",
    "\n",
    "# SHAP summary plot\n",
    "shap.summary_plot(shap_values, X_test, feature_names=cols)\n"
   ]
  },
  {
   "cell_type": "code",
   "execution_count": null,
   "id": "3b56cda2-0604-441c-9f16-8216b78cbca5",
   "metadata": {},
   "outputs": [],
   "source": [
    "import streamlit as st\n",
    "import numpy as np\n",
    "import joblib\n",
    "\n",
    "# Load the trained model\n",
    "model = joblib.load(\"best_model.pkl\")\n",
    "\n",
    "st.title(\"🧠 Disease Risk Prediction\")\n",
    "st.markdown(\"Enter the details below to predict the risk of a disease (e.g., diabetes)\")\n",
    "\n",
    "# Input fields\n",
    "pregnancies = st.number_input(\"Pregnancies\", min_value=0, max_value=20, value=1)\n",
    "glucose = st.number_input(\"Glucose Level\", min_value=0, max_value=200, value=100)\n",
    "blood_pressure = st.number_input(\"Blood Pressure\", min_value=0, max_value=150, value=70)\n",
    "skin_thickness = st.number_input(\"Skin Thickness\", min_value=0, max_value=100, value=20)\n",
    "insulin = st.number_input(\"Insulin\", min_value=0, max_value=900, value=80)\n",
    "bmi = st.number_input(\"BMI\", min_value=0.0, max_value=70.0, value=25.0)\n",
    "dpf = st.number_input(\"Diabetes Pedigree Function\", min_value=0.0, max_value=2.5, value=0.5)\n",
    "age = st.number_input(\"Age\", min_value=10, max_value=100, value=30)\n",
    "\n",
    "# Predict button\n",
    "if st.button(\"Predict\"):\n",
    "    input_data = np.array([[pregnancies, glucose, blood_pressure, skin_thickness,\n",
    "                            insulin, bmi, dpf, age]])\n",
    "    prediction = model.predict(input_data)[0]\n",
    "\n",
    "    if prediction == 1:\n",
    "        st.error(\"🔴 High Risk Detected\")\n",
    "    else:\n",
    "        st.success(\"🟢 Low Risk Detected\")\n"
   ]
  },
  {
   "cell_type": "code",
   "execution_count": 29,
   "id": "5e88bd36-b7a8-437c-90f0-5558580c8d02",
   "metadata": {},
   "outputs": [
    {
     "name": "stdout",
     "output_type": "stream",
     "text": [
      "Running on local URL:  http://127.0.0.1:7860\n",
      "\n",
      "To create a public link, set `share=True` in `launch()`.\n"
     ]
    },
    {
     "data": {
      "text/html": [
       "<div><iframe src=\"http://127.0.0.1:7860/\" width=\"100%\" height=\"500\" allow=\"autoplay; camera; microphone; clipboard-read; clipboard-write;\" frameborder=\"0\" allowfullscreen></iframe></div>"
      ],
      "text/plain": [
       "<IPython.core.display.HTML object>"
      ]
     },
     "metadata": {},
     "output_type": "display_data"
    },
    {
     "data": {
      "text/plain": []
     },
     "execution_count": 29,
     "metadata": {},
     "output_type": "execute_result"
    }
   ],
   "source": [
    "import gradio as gr\n",
    "import numpy as np\n",
    "import joblib\n",
    "\n",
    "# Load the trained model\n",
    "model = joblib.load(\"best_model.pkl\")\n",
    "\n",
    "# Define the prediction function\n",
    "def predict_diabetes(pregnancies, glucose, blood_pressure, skin_thickness,\n",
    "                     insulin, bmi, dpf, age):\n",
    "    input_data = np.array([[pregnancies, glucose, blood_pressure, skin_thickness,\n",
    "                            insulin, bmi, dpf, age]])\n",
    "    prediction = model.predict(input_data)[0]\n",
    "    return \"🔴 Diabetic\" if prediction == 1 else \"🟢 Not Diabetic\"\n",
    "\n",
    "# Gradio UI components\n",
    "interface = gr.Interface(\n",
    "    fn=predict_diabetes,\n",
    "    inputs=[\n",
    "        gr.Number(label=\"Pregnancies\", value=0),\n",
    "        gr.Number(label=\"Glucose\", value=120),\n",
    "        gr.Number(label=\"Blood Pressure\", value=70),\n",
    "        gr.Number(label=\"Skin Thickness\", value=20),\n",
    "        gr.Number(label=\"Insulin\", value=80),\n",
    "        gr.Number(label=\"BMI\", value=25.0),\n",
    "        gr.Number(label=\"Diabetes Pedigree Function\", value=0.5),\n",
    "        gr.Number(label=\"Age\", value=30)\n",
    "    ],\n",
    "    outputs=gr.Text(label=\"Prediction\"),\n",
    "    title=\"🧪 Diabetes Prediction System\",\n",
    "    description=\"Enter patient details to predict diabetes using a trained machine learning model.\"\n",
    ")\n",
    "\n",
    "interface.launch()\n"
   ]
  },
  {
   "cell_type": "code",
   "execution_count": null,
   "id": "22b209ba-68e1-4d01-8570-763088f1938b",
   "metadata": {},
   "outputs": [],
   "source": []
  },
  {
   "cell_type": "code",
   "execution_count": null,
   "id": "0862adcb-8c18-422a-bc94-8e9cadd01fc5",
   "metadata": {},
   "outputs": [],
   "source": []
  },
  {
   "cell_type": "code",
   "execution_count": null,
   "id": "2be8e480-4c51-4305-aebb-2f61e81827b0",
   "metadata": {},
   "outputs": [],
   "source": []
  }
 ],
 "metadata": {
  "kernelspec": {
   "display_name": "Python 3 (ipykernel)",
   "language": "python",
   "name": "python3"
  },
  "language_info": {
   "codemirror_mode": {
    "name": "ipython",
    "version": 3
   },
   "file_extension": ".py",
   "mimetype": "text/x-python",
   "name": "python",
   "nbconvert_exporter": "python",
   "pygments_lexer": "ipython3",
   "version": "3.9.23"
  }
 },
 "nbformat": 4,
 "nbformat_minor": 5
}
